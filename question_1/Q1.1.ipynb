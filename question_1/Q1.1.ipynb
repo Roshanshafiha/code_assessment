{
 "cells": [
  {
   "cell_type": "markdown",
   "id": "fc304d17-573e-46ce-ba37-c8d1ea5de1a8",
   "metadata": {},
   "source": [
    "Question 1.1: "
   ]
  },
  {
   "cell_type": "markdown",
   "id": "94a22a86-9bbe-4ee2-bdf2-e2dd5b962634",
   "metadata": {},
   "source": [
    "Question 1.1: How to properly track errors in:\n"
   ]
  },
  {
   "cell_type": "markdown",
   "id": "32f08e58",
   "metadata": {},
   "source": [
    "Bash"
   ]
  },
  {
   "cell_type": "code",
   "execution_count": 13,
   "id": "d887f87f-8d81-432e-938e-8fa366cb92df",
   "metadata": {},
   "outputs": [],
   "source": [
    "ls /path/to/nonexistent/directory\n",
    "\n",
    "exit_code=$?\n",
    "\n",
    "if [ $exit_code -ne 0 ]; then\n",
    "    echo \"An error occurred.\"\n",
    "fi\n"
   ]
  },
  {
   "cell_type": "markdown",
   "id": "0af2bb43",
   "metadata": {},
   "source": [
    "Python: "
   ]
  },
  {
   "cell_type": "markdown",
   "id": "fd0a72c2-7d32-48c1-a09e-5e1adeb25a98",
   "metadata": {},
   "source": [
    "import logging\n",
    "\n",
    "\n",
    "# Configure logging\n",
    "logging.basicConfig(filename='error.log', level=logging.ERROR, format='%(asctime)s - %(levelname)s - %(message)s')\n",
    "\n",
    "def divide_numbers(a, b):\n",
    "    try:\n",
    "        result = a / b\n",
    "        return result\n",
    "    except ZeroDivisionError as err:\n",
    "        logging.error(\"ZeroDivisionError\", exc_info=True)\n",
    "        return None\n",
    "    except Exception as e:\n",
    "        logging.error(\"An unexpected error occurred\", exc_info=True)\n",
    "        return None\n",
    "\n",
    "\n"
   ]
  },
  {
   "cell_type": "code",
   "execution_count": 14,
   "id": "99af7751-a79d-424a-a1b7-43caab316ccb",
   "metadata": {},
   "outputs": [],
   "source": [
    "# Example usage\n",
    "result1 = divide_numbers(10, 2)   # No error\n",
    "result2 = divide_numbers(10, 0)   # Will log a ZeroDivisionError\n",
    "result3 = divide_numbers('10', 2) # Will log a TypeError"
   ]
  }
 ],
 "metadata": {
  "kernelspec": {
   "display_name": "Python 3 (ipykernel)",
   "language": "python",
   "name": "python3"
  },
  "language_info": {
   "codemirror_mode": {
    "name": "ipython",
    "version": 3
   },
   "file_extension": ".py",
   "mimetype": "text/x-python",
   "name": "python",
   "nbconvert_exporter": "python",
   "pygments_lexer": "ipython3",
   "version": "3.12.0"
  }
 },
 "nbformat": 4,
 "nbformat_minor": 5
}
