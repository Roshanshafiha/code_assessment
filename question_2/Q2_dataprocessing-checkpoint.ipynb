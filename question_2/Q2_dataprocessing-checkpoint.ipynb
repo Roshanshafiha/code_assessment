{
 "cells": [
  {
   "cell_type": "markdown",
   "id": "fc304d17-573e-46ce-ba37-c8d1ea5de1a8",
   "metadata": {},
   "source": [
    "Question 2 : Data preprocessing "
   ]
  },
  {
   "cell_type": "markdown",
   "id": "94a22a86-9bbe-4ee2-bdf2-e2dd5b962634",
   "metadata": {},
   "source": [
    "load the module and the required file "
   ]
  },
  {
   "cell_type": "code",
   "execution_count": 13,
   "id": "d887f87f-8d81-432e-938e-8fa366cb92df",
   "metadata": {},
   "outputs": [],
   "source": [
    "import pandas as pd\n",
    "import unittest"
   ]
  },
  {
   "cell_type": "markdown",
   "id": "fd0a72c2-7d32-48c1-a09e-5e1adeb25a98",
   "metadata": {},
   "source": [
    "Question 2.1 answer "
   ]
  },
  {
   "cell_type": "code",
   "execution_count": 14,
   "id": "99af7751-a79d-424a-a1b7-43caab316ccb",
   "metadata": {},
   "outputs": [],
   "source": [
    "data=pd.read_csv('python3_test/simple_somatic_mutation.open.BLCA-CN.tsv', sep='\\t', header=0)"
   ]
  },
  {
   "cell_type": "code",
   "execution_count": 75,
   "id": "dbb05d4c-125e-41f4-981b-cecce449941b",
   "metadata": {},
   "outputs": [],
   "source": [
    "data.columns\n",
    "#extract relevant columns\n",
    "data = data[['mutated_from_allele', 'mutated_to_allele', 'icgc_mutation_id','transcript_affected','icgc_sample_id']]"
   ]
  },
  {
   "cell_type": "code",
   "execution_count": 76,
   "id": "087edcb7-46fd-4a16-bf62-48a76bb1251d",
   "metadata": {},
   "outputs": [],
   "source": [
    "# Remove duplicates based on the icgc_mutation_id column\n",
    "data_unique = data.drop_duplicates(subset='icgc_mutation_id')"
   ]
  },
  {
   "cell_type": "code",
   "execution_count": 77,
   "id": "bdb7cfbc-f6c4-4565-9911-ae47ca7ffdfb",
   "metadata": {},
   "outputs": [
    {
     "data": {
      "text/html": [
       "<div>\n",
       "<style scoped>\n",
       "    .dataframe tbody tr th:only-of-type {\n",
       "        vertical-align: middle;\n",
       "    }\n",
       "\n",
       "    .dataframe tbody tr th {\n",
       "        vertical-align: top;\n",
       "    }\n",
       "\n",
       "    .dataframe thead th {\n",
       "        text-align: right;\n",
       "    }\n",
       "</style>\n",
       "<table border=\"1\" class=\"dataframe\">\n",
       "  <thead>\n",
       "    <tr style=\"text-align: right;\">\n",
       "      <th></th>\n",
       "      <th>mutated_from_allele</th>\n",
       "      <th>mutated_to_allele</th>\n",
       "      <th>icgc_mutation_id</th>\n",
       "      <th>transcript_affected</th>\n",
       "      <th>icgc_sample_id</th>\n",
       "    </tr>\n",
       "  </thead>\n",
       "  <tbody>\n",
       "    <tr>\n",
       "      <th>0</th>\n",
       "      <td>G</td>\n",
       "      <td>A</td>\n",
       "      <td>MU5219</td>\n",
       "      <td>ENST00000263967</td>\n",
       "      <td>SA514847</td>\n",
       "    </tr>\n",
       "    <tr>\n",
       "      <th>1</th>\n",
       "      <td>G</td>\n",
       "      <td>A</td>\n",
       "      <td>MU5219</td>\n",
       "      <td>ENST00000462255</td>\n",
       "      <td>SA514847</td>\n",
       "    </tr>\n",
       "    <tr>\n",
       "      <th>2</th>\n",
       "      <td>T</td>\n",
       "      <td>G</td>\n",
       "      <td>MU4559679</td>\n",
       "      <td>ENST00000550184</td>\n",
       "      <td>SA514847</td>\n",
       "    </tr>\n",
       "    <tr>\n",
       "      <th>3</th>\n",
       "      <td>T</td>\n",
       "      <td>G</td>\n",
       "      <td>MU4559679</td>\n",
       "      <td>ENST00000551954</td>\n",
       "      <td>SA514847</td>\n",
       "    </tr>\n",
       "    <tr>\n",
       "      <th>4</th>\n",
       "      <td>T</td>\n",
       "      <td>G</td>\n",
       "      <td>MU4559679</td>\n",
       "      <td>ENST00000547649</td>\n",
       "      <td>SA514847</td>\n",
       "    </tr>\n",
       "  </tbody>\n",
       "</table>\n",
       "</div>"
      ],
      "text/plain": [
       "  mutated_from_allele mutated_to_allele icgc_mutation_id transcript_affected  \\\n",
       "0                   G                 A           MU5219     ENST00000263967   \n",
       "1                   G                 A           MU5219     ENST00000462255   \n",
       "2                   T                 G        MU4559679     ENST00000550184   \n",
       "3                   T                 G        MU4559679     ENST00000551954   \n",
       "4                   T                 G        MU4559679     ENST00000547649   \n",
       "\n",
       "  icgc_sample_id  \n",
       "0       SA514847  \n",
       "1       SA514847  \n",
       "2       SA514847  \n",
       "3       SA514847  \n",
       "4       SA514847  "
      ]
     },
     "execution_count": 77,
     "metadata": {},
     "output_type": "execute_result"
    }
   ],
   "source": [
    "data.head()"
   ]
  },
  {
   "cell_type": "code",
   "execution_count": 78,
   "id": "af2a4a3b-d1e9-461b-be4f-2fe620437fff",
   "metadata": {},
   "outputs": [
    {
     "data": {
      "text/html": [
       "<div>\n",
       "<style scoped>\n",
       "    .dataframe tbody tr th:only-of-type {\n",
       "        vertical-align: middle;\n",
       "    }\n",
       "\n",
       "    .dataframe tbody tr th {\n",
       "        vertical-align: top;\n",
       "    }\n",
       "\n",
       "    .dataframe thead th {\n",
       "        text-align: right;\n",
       "    }\n",
       "</style>\n",
       "<table border=\"1\" class=\"dataframe\">\n",
       "  <thead>\n",
       "    <tr style=\"text-align: right;\">\n",
       "      <th></th>\n",
       "      <th>mutated_from_allele</th>\n",
       "      <th>mutated_to_allele</th>\n",
       "      <th>unique_mutation_count</th>\n",
       "    </tr>\n",
       "  </thead>\n",
       "  <tbody>\n",
       "    <tr>\n",
       "      <th>0</th>\n",
       "      <td>A</td>\n",
       "      <td>C</td>\n",
       "      <td>446</td>\n",
       "    </tr>\n",
       "    <tr>\n",
       "      <th>1</th>\n",
       "      <td>A</td>\n",
       "      <td>G</td>\n",
       "      <td>923</td>\n",
       "    </tr>\n",
       "    <tr>\n",
       "      <th>2</th>\n",
       "      <td>A</td>\n",
       "      <td>T</td>\n",
       "      <td>467</td>\n",
       "    </tr>\n",
       "    <tr>\n",
       "      <th>3</th>\n",
       "      <td>C</td>\n",
       "      <td>A</td>\n",
       "      <td>811</td>\n",
       "    </tr>\n",
       "    <tr>\n",
       "      <th>4</th>\n",
       "      <td>C</td>\n",
       "      <td>G</td>\n",
       "      <td>1404</td>\n",
       "    </tr>\n",
       "    <tr>\n",
       "      <th>5</th>\n",
       "      <td>C</td>\n",
       "      <td>T</td>\n",
       "      <td>3805</td>\n",
       "    </tr>\n",
       "    <tr>\n",
       "      <th>6</th>\n",
       "      <td>G</td>\n",
       "      <td>A</td>\n",
       "      <td>3620</td>\n",
       "    </tr>\n",
       "    <tr>\n",
       "      <th>7</th>\n",
       "      <td>G</td>\n",
       "      <td>C</td>\n",
       "      <td>1376</td>\n",
       "    </tr>\n",
       "    <tr>\n",
       "      <th>8</th>\n",
       "      <td>G</td>\n",
       "      <td>T</td>\n",
       "      <td>660</td>\n",
       "    </tr>\n",
       "    <tr>\n",
       "      <th>9</th>\n",
       "      <td>T</td>\n",
       "      <td>A</td>\n",
       "      <td>460</td>\n",
       "    </tr>\n",
       "    <tr>\n",
       "      <th>10</th>\n",
       "      <td>T</td>\n",
       "      <td>C</td>\n",
       "      <td>923</td>\n",
       "    </tr>\n",
       "    <tr>\n",
       "      <th>11</th>\n",
       "      <td>T</td>\n",
       "      <td>G</td>\n",
       "      <td>583</td>\n",
       "    </tr>\n",
       "  </tbody>\n",
       "</table>\n",
       "</div>"
      ],
      "text/plain": [
       "   mutated_from_allele mutated_to_allele  unique_mutation_count\n",
       "0                    A                 C                    446\n",
       "1                    A                 G                    923\n",
       "2                    A                 T                    467\n",
       "3                    C                 A                    811\n",
       "4                    C                 G                   1404\n",
       "5                    C                 T                   3805\n",
       "6                    G                 A                   3620\n",
       "7                    G                 C                   1376\n",
       "8                    G                 T                    660\n",
       "9                    T                 A                    460\n",
       "10                   T                 C                    923\n",
       "11                   T                 G                    583"
      ]
     },
     "execution_count": 78,
     "metadata": {},
     "output_type": "execute_result"
    }
   ],
   "source": [
    "allele_changes = data_unique.groupby(['mutated_from_allele', 'mutated_to_allele'])['icgc_mutation_id'].nunique().reset_index()\n",
    "allele_changes.columns = ['mutated_from_allele', 'mutated_to_allele', 'unique_mutation_count']\n",
    "allele_changes"
   ]
  },
  {
   "cell_type": "markdown",
   "id": "00754cde-f313-4f6f-b8aa-77450c4b0d50",
   "metadata": {},
   "source": [
    "Question 2.2 answer :"
   ]
  },
  {
   "cell_type": "code",
   "execution_count": 79,
   "id": "abbcd8c1-35da-4f1c-b8ca-b1900f3ff047",
   "metadata": {},
   "outputs": [
    {
     "data": {
      "text/html": [
       "<div>\n",
       "<style scoped>\n",
       "    .dataframe tbody tr th:only-of-type {\n",
       "        vertical-align: middle;\n",
       "    }\n",
       "\n",
       "    .dataframe tbody tr th {\n",
       "        vertical-align: top;\n",
       "    }\n",
       "\n",
       "    .dataframe thead th {\n",
       "        text-align: right;\n",
       "    }\n",
       "</style>\n",
       "<table border=\"1\" class=\"dataframe\">\n",
       "  <thead>\n",
       "    <tr style=\"text-align: right;\">\n",
       "      <th></th>\n",
       "      <th>mutated_from_allele</th>\n",
       "      <th>mutated_to_allele</th>\n",
       "      <th>icgc_sample_id</th>\n",
       "      <th>unique_mutation_count</th>\n",
       "    </tr>\n",
       "  </thead>\n",
       "  <tbody>\n",
       "    <tr>\n",
       "      <th>0</th>\n",
       "      <td>A</td>\n",
       "      <td>C</td>\n",
       "      <td>SA514685</td>\n",
       "      <td>1</td>\n",
       "    </tr>\n",
       "    <tr>\n",
       "      <th>1</th>\n",
       "      <td>A</td>\n",
       "      <td>C</td>\n",
       "      <td>SA514687</td>\n",
       "      <td>5</td>\n",
       "    </tr>\n",
       "    <tr>\n",
       "      <th>2</th>\n",
       "      <td>A</td>\n",
       "      <td>C</td>\n",
       "      <td>SA514689</td>\n",
       "      <td>4</td>\n",
       "    </tr>\n",
       "    <tr>\n",
       "      <th>3</th>\n",
       "      <td>A</td>\n",
       "      <td>C</td>\n",
       "      <td>SA514691</td>\n",
       "      <td>5</td>\n",
       "    </tr>\n",
       "    <tr>\n",
       "      <th>4</th>\n",
       "      <td>A</td>\n",
       "      <td>C</td>\n",
       "      <td>SA514692</td>\n",
       "      <td>3</td>\n",
       "    </tr>\n",
       "    <tr>\n",
       "      <th>...</th>\n",
       "      <td>...</td>\n",
       "      <td>...</td>\n",
       "      <td>...</td>\n",
       "      <td>...</td>\n",
       "    </tr>\n",
       "    <tr>\n",
       "      <th>1150</th>\n",
       "      <td>T</td>\n",
       "      <td>G</td>\n",
       "      <td>SA514879</td>\n",
       "      <td>6</td>\n",
       "    </tr>\n",
       "    <tr>\n",
       "      <th>1151</th>\n",
       "      <td>T</td>\n",
       "      <td>G</td>\n",
       "      <td>SA514883</td>\n",
       "      <td>8</td>\n",
       "    </tr>\n",
       "    <tr>\n",
       "      <th>1152</th>\n",
       "      <td>T</td>\n",
       "      <td>G</td>\n",
       "      <td>SA514885</td>\n",
       "      <td>4</td>\n",
       "    </tr>\n",
       "    <tr>\n",
       "      <th>1153</th>\n",
       "      <td>T</td>\n",
       "      <td>G</td>\n",
       "      <td>SA514887</td>\n",
       "      <td>4</td>\n",
       "    </tr>\n",
       "    <tr>\n",
       "      <th>1154</th>\n",
       "      <td>T</td>\n",
       "      <td>G</td>\n",
       "      <td>SA514889</td>\n",
       "      <td>4</td>\n",
       "    </tr>\n",
       "  </tbody>\n",
       "</table>\n",
       "<p>1155 rows × 4 columns</p>\n",
       "</div>"
      ],
      "text/plain": [
       "     mutated_from_allele mutated_to_allele icgc_sample_id  \\\n",
       "0                      A                 C       SA514685   \n",
       "1                      A                 C       SA514687   \n",
       "2                      A                 C       SA514689   \n",
       "3                      A                 C       SA514691   \n",
       "4                      A                 C       SA514692   \n",
       "...                  ...               ...            ...   \n",
       "1150                   T                 G       SA514879   \n",
       "1151                   T                 G       SA514883   \n",
       "1152                   T                 G       SA514885   \n",
       "1153                   T                 G       SA514887   \n",
       "1154                   T                 G       SA514889   \n",
       "\n",
       "      unique_mutation_count  \n",
       "0                         1  \n",
       "1                         5  \n",
       "2                         4  \n",
       "3                         5  \n",
       "4                         3  \n",
       "...                     ...  \n",
       "1150                      6  \n",
       "1151                      8  \n",
       "1152                      4  \n",
       "1153                      4  \n",
       "1154                      4  \n",
       "\n",
       "[1155 rows x 4 columns]"
      ]
     },
     "execution_count": 79,
     "metadata": {},
     "output_type": "execute_result"
    }
   ],
   "source": [
    "sample_mutation_count = data_unique.groupby(['mutated_from_allele', 'mutated_to_allele','icgc_sample_id'])['icgc_mutation_id'].nunique().reset_index()\n",
    "sample_mutation_count.columns = ['mutated_from_allele', 'mutated_to_allele','icgc_sample_id' ,'unique_mutation_count']\n",
    "sample_mutation_count"
   ]
  },
  {
   "cell_type": "code",
   "execution_count": 80,
   "id": "2cce8a3f-e21d-4fde-8a98-4bb86e2bccce",
   "metadata": {},
   "outputs": [],
   "source": [
    "# Find the sample with the highest and lowest unique mutation counts\n",
    "max_sample = sample_mutation_count.loc[sample_mutation_count['unique_mutation_count'].idxmax()]\n",
    "min_sample = sample_mutation_count.loc[sample_mutation_count['unique_mutation_count'].idxmin()]"
   ]
  },
  {
   "cell_type": "markdown",
   "id": "aa7b1358-e5e5-4ace-a2e8-6ad635cccb83",
   "metadata": {},
   "source": [
    "max_sample reperesent the icgc_sample_id that has the least mutation count"
   ]
  },
  {
   "cell_type": "code",
   "execution_count": 81,
   "id": "9c9ae668-df9b-41b4-b2ea-5914356b4831",
   "metadata": {},
   "outputs": [
    {
     "data": {
      "text/plain": [
       "mutated_from_allele             C\n",
       "mutated_to_allele               T\n",
       "icgc_sample_id           SA514800\n",
       "unique_mutation_count         181\n",
       "Name: 528, dtype: object"
      ]
     },
     "execution_count": 81,
     "metadata": {},
     "output_type": "execute_result"
    }
   ],
   "source": [
    "max_sample"
   ]
  },
  {
   "cell_type": "markdown",
   "id": "763b2fc3-ea4a-48c6-8ff9-159676372e1a",
   "metadata": {},
   "source": [
    "min_sample reperesent the icgc_sample_id that has the least mutation count "
   ]
  },
  {
   "cell_type": "code",
   "execution_count": 82,
   "id": "043933cf-4c57-4208-8219-3b79e8ddc115",
   "metadata": {},
   "outputs": [
    {
     "data": {
      "text/plain": [
       "mutated_from_allele             A\n",
       "mutated_to_allele               C\n",
       "icgc_sample_id           SA514685\n",
       "unique_mutation_count           1\n",
       "Name: 0, dtype: object"
      ]
     },
     "execution_count": 82,
     "metadata": {},
     "output_type": "execute_result"
    }
   ],
   "source": [
    "min_sample\n"
   ]
  },
  {
   "cell_type": "markdown",
   "id": "8dff4d52-f4f5-46ec-81a2-a4462ea2150a",
   "metadata": {},
   "source": [
    "Question 2.3 - check code to test the previous functions"
   ]
  },
  {
   "cell_type": "code",
   "execution_count": 36,
   "id": "8f3b1f0a-4591-4b01-bddf-aaeb5c1f5efc",
   "metadata": {},
   "outputs": [],
   "source": [
    "def count_of_mutated_allele(input_data):\n",
    "    data = input_data[['mutated_from_allele', 'mutated_to_allele', 'icgc_mutation_id','transcript_affected','icgc_sample_id']]\n",
    "    # Remove duplicates based on the icgc_mutation_id column\n",
    "    data_unique = data.drop_duplicates(subset='icgc_mutation_id')\n",
    "    allele_changes = data_unique.groupby(['mutated_from_allele', 'mutated_to_allele'])['icgc_mutation_id'].nunique().reset_index()\n",
    "    allele_changes.columns = ['mutated_from_allele', 'mutated_to_allele', 'unique_mutation_count']\n",
    "\n",
    "    #max and min sample with mutation count\n",
    "    sample_mutation_count = data_unique.groupby(['mutated_from_allele', 'mutated_to_allele','icgc_sample_id'])['icgc_mutation_id'].nunique().reset_index()\n",
    "    sample_mutation_count.columns = ['mutated_from_allele', 'mutated_to_allele','icgc_sample_id' ,'unique_mutation_count_for_sample']\n",
    "    max_sample = sample_mutation_count.loc[sample_mutation_count['unique_mutation_count_for_sample'].idxmax()]\n",
    "    min_sample = sample_mutation_count.loc[sample_mutation_count['unique_mutation_count_for_sample'].idxmin()]\n",
    "    \n",
    "    return allele_changes,sample_mutation_count,max_sample,min_sample"
   ]
  },
  {
   "cell_type": "code",
   "execution_count": 71,
   "id": "7a898018-5955-4f63-acad-e3e90ba42efe",
   "metadata": {},
   "outputs": [],
   "source": [
    "class Test(unittest.TestCase):\n",
    "    data = pd.read_csv('python3_test/simple_somatic_mutation.open.BLCA-CN.tsv', sep='\\t', header=0)\n",
    "    allele_changes , sample_mutation_count,max_sample,min_sample = count_of_mutated_allele(data)\n",
    "    def test_allele_changes(self):\n",
    "        print (' Test1 :Inititating test for checking the code to extract unique mutation count')\n",
    "        self.assertTrue('unique_mutation_count' in allele_changes.columns)\n",
    "        print (' Test 1 passed')\n",
    "    def test_sample_max(self):\n",
    "        print ('Test 2 : Inititating test for checking code to extract sample with max mutation')\n",
    "        max_value = self.sample_mutation_count['unique_mutation_count_for_sample'].max()\n",
    "        self.assertEqual(max_sample['unique_mutation_count_for_sample'],max_value)\n",
    "        print (' Test 2 passed')\n",
    "    def test_sample_min(self):\n",
    "        print ('Test 3 : Inititating test for checking code to extract sample with min mutation')\n",
    "        min_value = self.sample_mutation_count['unique_mutation_count_for_sample'].min()\n",
    "        self.assertEqual(min_sample['unique_mutation_count_for_sample'],min_value)\n",
    "        print (' Test 3 passed')\n",
    "    "
   ]
  },
  {
   "cell_type": "code",
   "execution_count": 72,
   "id": "1f9d30e2-5efc-4d98-8407-f78af559f736",
   "metadata": {},
   "outputs": [
    {
     "name": "stderr",
     "output_type": "stream",
     "text": [
      "...\n",
      "----------------------------------------------------------------------\n",
      "Ran 3 tests in 0.005s\n",
      "\n",
      "OK\n"
     ]
    },
    {
     "name": "stdout",
     "output_type": "stream",
     "text": [
      " Test1 :Inititating test for checking the code to extract unique mutation count\n",
      " Test 1 passed\n",
      "Test 2 : Inititating test for checking code to extract sample with max mutation\n",
      " Test 2 passed\n",
      "Test 3 : Inititating test for checking code to extract sample with min mutation\n",
      " Test 3 passed\n"
     ]
    },
    {
     "data": {
      "text/plain": [
       "<unittest.runner.TextTestResult run=3 errors=0 failures=0>"
      ]
     },
     "execution_count": 72,
     "metadata": {},
     "output_type": "execute_result"
    }
   ],
   "source": [
    "suite = unittest.TestLoader().loadTestsFromTestCase(Test)\n",
    "unittest.TextTestRunner().run(suite)"
   ]
  },
  {
   "cell_type": "markdown",
   "id": "02c76866-ed18-4fc0-8b25-553d2a540f22",
   "metadata": {},
   "source": [
    "### "
   ]
  }
 ],
 "metadata": {
  "kernelspec": {
   "display_name": "Python 3 (ipykernel)",
   "language": "python",
   "name": "python3"
  },
  "language_info": {
   "codemirror_mode": {
    "name": "ipython",
    "version": 3
   },
   "file_extension": ".py",
   "mimetype": "text/x-python",
   "name": "python",
   "nbconvert_exporter": "python",
   "pygments_lexer": "ipython3",
   "version": "3.12.0"
  }
 },
 "nbformat": 4,
 "nbformat_minor": 5
}
