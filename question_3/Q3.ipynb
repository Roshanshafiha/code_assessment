{
 "cells": [
  {
   "cell_type": "markdown",
   "id": "fc304d17-573e-46ce-ba37-c8d1ea5de1a8",
   "metadata": {},
   "source": [
    "Question 3 : "
   ]
  },
  {
   "cell_type": "markdown",
   "id": "94a22a86-9bbe-4ee2-bdf2-e2dd5b962634",
   "metadata": {},
   "source": [
    "Question 3.1:\n",
    "How many genes in the gene table have an id_biotype of 23?"
   ]
  },
  {
   "cell_type": "code",
   "execution_count": 13,
   "id": "d887f87f-8d81-432e-938e-8fa366cb92df",
   "metadata": {},
   "outputs": [],
   "source": [
    "SELECT COUNT (ID_BIOTYPE)\n",
    "FROM gene\n",
    "WHERE ID_BIOTYPE=23"
   ]
  },
  {
   "cell_type": "markdown",
   "id": "fd0a72c2-7d32-48c1-a09e-5e1adeb25a98",
   "metadata": {},
   "source": [
    "Question 3.2:\n",
    "What is the Ensembl Gene ID for the Gene_symbol TTTY2?\n"
   ]
  },
  {
   "cell_type": "code",
   "execution_count": 14,
   "id": "99af7751-a79d-424a-a1b7-43caab316ccb",
   "metadata": {},
   "outputs": [],
   "source": [
    "SELECT ENSEMBL_GENE_ID\n",
    "FROM gene\n",
    "WHERE GENE_SYMBOL=’TTY2’"
   ]
  },
  {
   "cell_type": "markdown",
   "id": "dbb05d4c-125e-41f4-981b-cecce449941b",
   "metadata": {},
   "source": [
    "Question 3.3:\n",
    "Give a breakdown of the number of genes for each chromosome."
   ]
  },
  {
   "cell_type": "code",
   "execution_count": 76,
   "id": "087edcb7-46fd-4a16-bf62-48a76bb1251d",
   "metadata": {},
   "outputs": [],
   "source": [
    "SELECT CHROMOSOME , COUNT (ID_GENE) AS Gene_count\n",
    "FROM gene\n",
    "GROUP BY CHROMOSOME \n",
    "ORDER BY CHROMOSOME "
   ]
  },
  {
   "cell_type": "markdown",
   "id": "bdb7cfbc-f6c4-4565-9911-ae47ca7ffdfb",
   "metadata": {},
   "source": [
    "\n",
    "Question 3.4:\n",
    "How many Transcripts does the Gene Symbol RAI14 has?"
   ]
  },
  {
   "cell_type": "code",
   "execution_count": null,
   "id": "af2a4a3b-d1e9-461b-be4f-2fe620437fff",
   "metadata": {},
   "outputs": [],
   "source": [
    "SELECT ID_GENE , COUNT (ID_GENE) AS transcript_count\n",
    "FROM transcript\n",
    "WHERE ID_GENE= (SELECT GENE_ID FROM gene WHERE GENE_SYMBOL=’RAI14’)\n"
   ]
  },
  {
   "cell_type": "markdown",
   "id": "00754cde-f313-4f6f-b8aa-77450c4b0d50",
   "metadata": {},
   "source": [
    "Question 3.5:\n",
    "What is the canonical transcript accession for Ensembl Gene id ENSG00000266960?"
   ]
  },
  {
   "cell_type": "code",
   "execution_count": null,
   "id": "abbcd8c1-35da-4f1c-b8ca-b1900f3ff047",
   "metadata": {},
   "outputs": [],
   "source": [
    "SELECT ID_GENE,IS_CANNONICAL,ACCESSION\n",
    "FROM transcript\n",
    "WHERE ID_GENE = (SELECT ID_GENE FROM gene WHERE ENSEMBL_GENE_ID=’ ENSG00000266960’)"
   ]
  },
  {
   "cell_type": "markdown",
   "id": "2cce8a3f-e21d-4fde-8a98-4bb86e2bccce",
   "metadata": {},
   "source": [
    "Question 3.6:\n",
    "List the Transcript accessions for the Gene Symbol AK1 with id_biotype 23 and flags\n",
    "gencode_basic"
   ]
  },
  {
   "cell_type": "code",
   "execution_count": null,
   "id": "aa7b1358-e5e5-4ace-a2e8-6ad635cccb83",
   "metadata": {
    "vscode": {
     "languageId": "plaintext"
    }
   },
   "outputs": [],
   "source": [
    "SELECT ID_GENE,FLAGS,ACCESSION\n",
    "FROM transcript\n",
    "WHERE ID_GENE = (SELECT ID_GENE FROM gene WHERE GENE_SYMBOL=’ AK1’ AND ID_BIOTYPE=23)\n",
    "AND FLAGS = ‘genecode_basic’\n"
   ]
  },
  {
   "cell_type": "markdown",
   "id": "9c9ae668-df9b-41b4-b2ea-5914356b4831",
   "metadata": {},
   "source": [
    "Question 3.7:\n",
    "Imagine that we have a table called “some_gene” with only a subset of the gene data. If I\n",
    "want to join the gene table with this table but display all the genes in the result, what kind of\n",
    "join would you do?"
   ]
  },
  {
   "cell_type": "code",
   "execution_count": null,
   "id": "763b2fc3-ea4a-48c6-8ff9-159676372e1a",
   "metadata": {
    "vscode": {
     "languageId": "plaintext"
    }
   },
   "outputs": [],
   "source": [
    "SELECT ID_GENE , GENE_SYMBOL\n",
    "FROM gene \n",
    "LEFT JOIN some_gene ON gene.ID_GENE = some_gene.ID_GENE"
   ]
  },
  {
   "cell_type": "markdown",
   "id": "043933cf-4c57-4208-8219-3b79e8ddc115",
   "metadata": {},
   "source": [
    "Question 3.8:\n",
    "Imagine that the gene and transcript tables are getting very big and that joining the two tables\n",
    "get slower and slower. What would you do to improve performances?"
   ]
  },
  {
   "cell_type": "markdown",
   "id": "8dff4d52-f4f5-46ec-81a2-a4462ea2150a",
   "metadata": {},
   "source": [
    "Answer:\n",
    "-\tCreate an index on the GENE_ID column to join the table in a much faster rate.\n",
    "-\tDenormalization of data can be performed keeping in mind that this approach has faster read and slower write operation on the data."
   ]
  },
  {
   "cell_type": "markdown",
   "id": "8f3b1f0a-4591-4b01-bddf-aaeb5c1f5efc",
   "metadata": {},
   "source": [
    "Question 3.9:\n",
    "If you want to avoid duplicates in a table, what kind of index would you create?"
   ]
  },
  {
   "cell_type": "markdown",
   "id": "7a898018-5955-4f63-acad-e3e90ba42efe",
   "metadata": {},
   "source": [
    "Answer:\n",
    "-\tTo start with , make a new table with the same structure as the table with duplicates.\n",
    "-\tPut a unique index on the table that was created above.\n",
    "-\tRun an insert query to transfer your dublicated table into your new table. Any duplicates will get kicked out into a \"Paste Errors\" table and your new table will not have duplicates.\n",
    "\n"
   ]
  },
  {
   "cell_type": "markdown",
   "id": "1f9d30e2-5efc-4d98-8407-f78af559f736",
   "metadata": {},
   "source": [
    "If you want to make sure that all the id_gene ids in the transcript table exists in the gene table,\n",
    "what kind of index would you create?"
   ]
  },
  {
   "cell_type": "code",
   "execution_count": null,
   "id": "6014047a",
   "metadata": {
    "vscode": {
     "languageId": "plaintext"
    }
   },
   "outputs": [],
   "source": [
    "CREATE INDEX idx_gene_id_gene ON gene(ID_GENE);\n",
    "CREATE INDEX idx_transcript_id_gene ON transcript(ID_GENE);\n",
    "\n",
    "SELECT t.ID_GENE\n",
    "FROM transcript t\n",
    "LEFT JOIN gene g ON t.ID_GENE = g.ID_GENE\n",
    "WHERE g.ID_GENE IS NULL;"
   ]
  },
  {
   "cell_type": "markdown",
   "id": "28452c4c",
   "metadata": {},
   "source": [
    "The last lines of code check if the ID_GENE present in the transcript is in the gene table too otherwise it creates a null."
   ]
  },
  {
   "cell_type": "markdown",
   "id": "02c76866-ed18-4fc0-8b25-553d2a540f22",
   "metadata": {},
   "source": [
    "### "
   ]
  }
 ],
 "metadata": {
  "kernelspec": {
   "display_name": "Python 3 (ipykernel)",
   "language": "python",
   "name": "python3"
  },
  "language_info": {
   "codemirror_mode": {
    "name": "ipython",
    "version": 3
   },
   "file_extension": ".py",
   "mimetype": "text/x-python",
   "name": "python",
   "nbconvert_exporter": "python",
   "pygments_lexer": "ipython3",
   "version": "3.12.0"
  }
 },
 "nbformat": 4,
 "nbformat_minor": 5
}
